{
 "cells": [
  {
   "cell_type": "code",
   "execution_count": 1,
   "metadata": {},
   "outputs": [],
   "source": [
    "import numpy as np, pandas as pd\n",
    "import matplotlib.pyplot as plt\n",
    "from scipy.stats import entropy\n",
    "from scipy.special import softmax"
   ]
  },
  {
   "cell_type": "code",
   "execution_count": 2,
   "metadata": {},
   "outputs": [],
   "source": [
    "model_types = [\"teacher\", \"BERT\", \"LSTM\"]\n",
    "glue_tasks = [\"CoLA\", \"SST-2\", \"Sara\"]\n",
    "classes = {\"CoLA\": np.arange(2), \"SST-2\": np.arange(2), \"Sara\": np.arange(57)}"
   ]
  },
  {
   "cell_type": "markdown",
   "metadata": {},
   "source": [
    "# Comparing models for a given task"
   ]
  },
  {
   "cell_type": "code",
   "execution_count": 3,
   "metadata": {},
   "outputs": [
    {
     "name": "stdout",
     "output_type": "stream",
     "text": [
      "CoLA\n",
      "H(teacher) = 0.206±0.1548\n",
      "Made 169 mistakes out of 1043 (84% rate)\n",
      "H(BERT) = 0.253±0.1862\n",
      "Made 228 mistakes out of 1043 (78% rate)\n",
      "H(LSTM) = 0.282±0.1921\n",
      "Made 238 mistakes out of 1043 (77% rate)\n",
      "SST-2\n",
      "H(teacher) = 0.101±0.1316\n",
      "Made 74 mistakes out of 872 (92% rate)\n",
      "H(BERT) = 0.149±0.1814\n",
      "Made 93 mistakes out of 872 (89% rate)\n",
      "H(LSTM) = 0.134±0.1665\n",
      "Made 77 mistakes out of 872 (91% rate)\n",
      "Sara\n",
      "H(teacher) = 0.292±0.5136\n",
      "Made 121 mistakes out of 970 (88% rate)\n",
      "H(BERT) = 0.367±0.5852\n",
      "Made 125 mistakes out of 970 (87% rate)\n",
      "H(LSTM) = 0.506±0.7136\n",
      "Made 131 mistakes out of 970 (86% rate)\n"
     ]
    }
   ],
   "source": [
    "N = 5\n",
    "for task in glue_tasks:\n",
    "    print(task)\n",
    "    for model_type in model_types:\n",
    "        data = pd.read_csv(\"predictions/dev_scored_{}_{}.tsv\".format(task, model_type), delimiter=\"\\t\")\n",
    "        \n",
    "        # Average entropy\n",
    "        Hs = []\n",
    "        for i, sample in data.iterrows():\n",
    "            logits = np.array([float(l) for l in sample[\"logits\"].split(\",\")])\n",
    "            Hs.append(entropy(softmax(logits)))\n",
    "        H_mean = np.mean(Hs)\n",
    "        H_std = np.std(Hs)\n",
    "        print(\"H({}) = {:.3f}±{:.4f}\".format(model_type, H_mean, H_std))\n",
    "        \n",
    "        mistakes = data[data[\"pred\"] != data[\"label\"]].sort_values(by=\"certainty_of_pred\", ascending=False)\n",
    "        hits = data[data[\"pred\"] == data[\"label\"]].sort_values(by=\"certainty_of_pred\", ascending=False)\n",
    "        print(\"Made {} mistakes out of {} ({:.0f}% rate)\"\\\n",
    "              .format(len(mistakes), len(data), 100*(1-len(mistakes)/len(data))))\n",
    "        examples = {}\n",
    "        examples[\"confident mistakes\"] = mistakes[:N]\n",
    "        examples[\"unconfident mistakes\"] = mistakes[-N:][::-1]\n",
    "        examples[\"confident hits\"] = hits[:N]\n",
    "        examples[\"unconfident hits\"] = hits[-N:][::-1]\n",
    "        with open(\"mistakes-hits/{}_{}.txt\".format(task, model_type), \"w\") as f:\n",
    "            for kind in [\"confident mistakes\", \"unconfident mistakes\", \"confident hits\", \"unconfident hits\"]:\n",
    "                f.write(\"\\n{}\\n\".format(kind))\n",
    "                for i, ex in examples[kind].iterrows():\n",
    "                    f.write(\"{:.3f} ({}): {}\\n\".format(ex[\"certainty_of_pred\"], ex[\"label\"], ex[\"sentence\"]))\n",
    "# TO-DO: SEPARATE EXAMPLES BY CLASS (I.E. HAVING CONFIDENT UNACCAPTABLE VS ACCEPTABLE MISTAKES, ETC)"
   ]
  },
  {
   "cell_type": "markdown",
   "metadata": {},
   "source": [
    "# Playground"
   ]
  },
  {
   "cell_type": "code",
   "execution_count": 3,
   "metadata": {},
   "outputs": [],
   "source": [
    "data = pd.read_csv(\"predictions/dev_scored_{}_{}.tsv\".format(\"CoLA\", \"LSTM\"), delimiter=\"\\t\")"
   ]
  },
  {
   "cell_type": "markdown",
   "metadata": {},
   "source": [
    "## Quick info"
   ]
  },
  {
   "cell_type": "code",
   "execution_count": 4,
   "metadata": {},
   "outputs": [
    {
     "data": {
      "text/html": [
       "<div>\n",
       "<style scoped>\n",
       "    .dataframe tbody tr th:only-of-type {\n",
       "        vertical-align: middle;\n",
       "    }\n",
       "\n",
       "    .dataframe tbody tr th {\n",
       "        vertical-align: top;\n",
       "    }\n",
       "\n",
       "    .dataframe thead th {\n",
       "        text-align: right;\n",
       "    }\n",
       "</style>\n",
       "<table border=\"1\" class=\"dataframe\">\n",
       "  <thead>\n",
       "    <tr style=\"text-align: right;\">\n",
       "      <th></th>\n",
       "      <th>sentence</th>\n",
       "      <th>label</th>\n",
       "      <th>pred</th>\n",
       "      <th>certainty_of_pred</th>\n",
       "      <th>certainty_of_label</th>\n",
       "      <th>logits</th>\n",
       "    </tr>\n",
       "  </thead>\n",
       "  <tbody>\n",
       "    <tr>\n",
       "      <th>0</th>\n",
       "      <td>the sailors rode the breeze clear of the rocks.</td>\n",
       "      <td>1</td>\n",
       "      <td>1</td>\n",
       "      <td>0.969</td>\n",
       "      <td>0.969</td>\n",
       "      <td>-2.0777724,1.3549101</td>\n",
       "    </tr>\n",
       "    <tr>\n",
       "      <th>1</th>\n",
       "      <td>the weights made the rope stretch over the pul...</td>\n",
       "      <td>1</td>\n",
       "      <td>1</td>\n",
       "      <td>0.972</td>\n",
       "      <td>0.972</td>\n",
       "      <td>-2.1502833,1.4040403</td>\n",
       "    </tr>\n",
       "    <tr>\n",
       "      <th>2</th>\n",
       "      <td>the mechanical doll wriggled itself loose.</td>\n",
       "      <td>1</td>\n",
       "      <td>1</td>\n",
       "      <td>0.960</td>\n",
       "      <td>0.960</td>\n",
       "      <td>-1.9746174,1.2129471</td>\n",
       "    </tr>\n",
       "    <tr>\n",
       "      <th>3</th>\n",
       "      <td>if you had eaten more, you would want less.</td>\n",
       "      <td>1</td>\n",
       "      <td>1</td>\n",
       "      <td>0.947</td>\n",
       "      <td>0.947</td>\n",
       "      <td>-1.8209175,1.0607835</td>\n",
       "    </tr>\n",
       "    <tr>\n",
       "      <th>4</th>\n",
       "      <td>as you eat the most, you want the least.</td>\n",
       "      <td>0</td>\n",
       "      <td>1</td>\n",
       "      <td>0.856</td>\n",
       "      <td>0.144</td>\n",
       "      <td>-1.14807,0.6344539</td>\n",
       "    </tr>\n",
       "    <tr>\n",
       "      <th>...</th>\n",
       "      <td>...</td>\n",
       "      <td>...</td>\n",
       "      <td>...</td>\n",
       "      <td>...</td>\n",
       "      <td>...</td>\n",
       "      <td>...</td>\n",
       "    </tr>\n",
       "    <tr>\n",
       "      <th>1038</th>\n",
       "      <td>john considers bill silly.</td>\n",
       "      <td>1</td>\n",
       "      <td>1</td>\n",
       "      <td>0.978</td>\n",
       "      <td>0.978</td>\n",
       "      <td>-2.240571,1.5472332</td>\n",
       "    </tr>\n",
       "    <tr>\n",
       "      <th>1039</th>\n",
       "      <td>john considers bill to be silly.</td>\n",
       "      <td>1</td>\n",
       "      <td>1</td>\n",
       "      <td>0.984</td>\n",
       "      <td>0.984</td>\n",
       "      <td>-2.3931918,1.72282</td>\n",
       "    </tr>\n",
       "    <tr>\n",
       "      <th>1040</th>\n",
       "      <td>john bought a dog for himself to play with.</td>\n",
       "      <td>0</td>\n",
       "      <td>1</td>\n",
       "      <td>0.760</td>\n",
       "      <td>0.240</td>\n",
       "      <td>-0.7178209,0.4342072</td>\n",
       "    </tr>\n",
       "    <tr>\n",
       "      <th>1041</th>\n",
       "      <td>john arranged for himself to get the prize.</td>\n",
       "      <td>1</td>\n",
       "      <td>1</td>\n",
       "      <td>0.973</td>\n",
       "      <td>0.973</td>\n",
       "      <td>-2.1123729,1.4771334</td>\n",
       "    </tr>\n",
       "    <tr>\n",
       "      <th>1042</th>\n",
       "      <td>john talked to bill about himself.</td>\n",
       "      <td>1</td>\n",
       "      <td>0</td>\n",
       "      <td>0.798</td>\n",
       "      <td>0.202</td>\n",
       "      <td>0.96771497,-0.4050081</td>\n",
       "    </tr>\n",
       "  </tbody>\n",
       "</table>\n",
       "<p>1043 rows × 6 columns</p>\n",
       "</div>"
      ],
      "text/plain": [
       "                                               sentence  label  pred  \\\n",
       "0       the sailors rode the breeze clear of the rocks.      1     1   \n",
       "1     the weights made the rope stretch over the pul...      1     1   \n",
       "2            the mechanical doll wriggled itself loose.      1     1   \n",
       "3           if you had eaten more, you would want less.      1     1   \n",
       "4              as you eat the most, you want the least.      0     1   \n",
       "...                                                 ...    ...   ...   \n",
       "1038                         john considers bill silly.      1     1   \n",
       "1039                   john considers bill to be silly.      1     1   \n",
       "1040        john bought a dog for himself to play with.      0     1   \n",
       "1041        john arranged for himself to get the prize.      1     1   \n",
       "1042                 john talked to bill about himself.      1     0   \n",
       "\n",
       "      certainty_of_pred  certainty_of_label                 logits  \n",
       "0                 0.969               0.969   -2.0777724,1.3549101  \n",
       "1                 0.972               0.972   -2.1502833,1.4040403  \n",
       "2                 0.960               0.960   -1.9746174,1.2129471  \n",
       "3                 0.947               0.947   -1.8209175,1.0607835  \n",
       "4                 0.856               0.144     -1.14807,0.6344539  \n",
       "...                 ...                 ...                    ...  \n",
       "1038              0.978               0.978    -2.240571,1.5472332  \n",
       "1039              0.984               0.984     -2.3931918,1.72282  \n",
       "1040              0.760               0.240   -0.7178209,0.4342072  \n",
       "1041              0.973               0.973   -2.1123729,1.4771334  \n",
       "1042              0.798               0.202  0.96771497,-0.4050081  \n",
       "\n",
       "[1043 rows x 6 columns]"
      ]
     },
     "execution_count": 4,
     "metadata": {},
     "output_type": "execute_result"
    }
   ],
   "source": [
    "data"
   ]
  },
  {
   "cell_type": "code",
   "execution_count": 5,
   "metadata": {},
   "outputs": [
    {
     "data": {
      "text/html": [
       "<div>\n",
       "<style scoped>\n",
       "    .dataframe tbody tr th:only-of-type {\n",
       "        vertical-align: middle;\n",
       "    }\n",
       "\n",
       "    .dataframe tbody tr th {\n",
       "        vertical-align: top;\n",
       "    }\n",
       "\n",
       "    .dataframe thead th {\n",
       "        text-align: right;\n",
       "    }\n",
       "</style>\n",
       "<table border=\"1\" class=\"dataframe\">\n",
       "  <thead>\n",
       "    <tr style=\"text-align: right;\">\n",
       "      <th></th>\n",
       "      <th>label</th>\n",
       "      <th>pred</th>\n",
       "      <th>certainty_of_pred</th>\n",
       "      <th>certainty_of_label</th>\n",
       "    </tr>\n",
       "  </thead>\n",
       "  <tbody>\n",
       "    <tr>\n",
       "      <th>count</th>\n",
       "      <td>1043.000000</td>\n",
       "      <td>1043.000000</td>\n",
       "      <td>1043.000000</td>\n",
       "      <td>1043.000000</td>\n",
       "    </tr>\n",
       "    <tr>\n",
       "      <th>mean</th>\n",
       "      <td>0.691275</td>\n",
       "      <td>0.746884</td>\n",
       "      <td>0.891261</td>\n",
       "      <td>0.730762</td>\n",
       "    </tr>\n",
       "    <tr>\n",
       "      <th>std</th>\n",
       "      <td>0.462189</td>\n",
       "      <td>0.435005</td>\n",
       "      <td>0.119072</td>\n",
       "      <td>0.337798</td>\n",
       "    </tr>\n",
       "    <tr>\n",
       "      <th>min</th>\n",
       "      <td>0.000000</td>\n",
       "      <td>0.000000</td>\n",
       "      <td>0.500000</td>\n",
       "      <td>0.008000</td>\n",
       "    </tr>\n",
       "    <tr>\n",
       "      <th>25%</th>\n",
       "      <td>0.000000</td>\n",
       "      <td>0.000000</td>\n",
       "      <td>0.858500</td>\n",
       "      <td>0.561000</td>\n",
       "    </tr>\n",
       "    <tr>\n",
       "      <th>50%</th>\n",
       "      <td>1.000000</td>\n",
       "      <td>1.000000</td>\n",
       "      <td>0.941000</td>\n",
       "      <td>0.920000</td>\n",
       "    </tr>\n",
       "    <tr>\n",
       "      <th>75%</th>\n",
       "      <td>1.000000</td>\n",
       "      <td>1.000000</td>\n",
       "      <td>0.976000</td>\n",
       "      <td>0.975000</td>\n",
       "    </tr>\n",
       "    <tr>\n",
       "      <th>max</th>\n",
       "      <td>1.000000</td>\n",
       "      <td>1.000000</td>\n",
       "      <td>0.992000</td>\n",
       "      <td>0.989000</td>\n",
       "    </tr>\n",
       "  </tbody>\n",
       "</table>\n",
       "</div>"
      ],
      "text/plain": [
       "             label         pred  certainty_of_pred  certainty_of_label\n",
       "count  1043.000000  1043.000000        1043.000000         1043.000000\n",
       "mean      0.691275     0.746884           0.891261            0.730762\n",
       "std       0.462189     0.435005           0.119072            0.337798\n",
       "min       0.000000     0.000000           0.500000            0.008000\n",
       "25%       0.000000     0.000000           0.858500            0.561000\n",
       "50%       1.000000     1.000000           0.941000            0.920000\n",
       "75%       1.000000     1.000000           0.976000            0.975000\n",
       "max       1.000000     1.000000           0.992000            0.989000"
      ]
     },
     "execution_count": 5,
     "metadata": {},
     "output_type": "execute_result"
    }
   ],
   "source": [
    "data.describe()"
   ]
  },
  {
   "cell_type": "markdown",
   "metadata": {},
   "source": [
    "# Checking peakiness of logit distributions"
   ]
  },
  {
   "cell_type": "code",
   "execution_count": 7,
   "metadata": {},
   "outputs": [
    {
     "data": {
      "image/png": "[encoded data removed]",
      "text/plain": [
       "<Figure size 1080x504 with 1 Axes>"
      ]
     },
     "metadata": {
      "needs_background": "light"
     },
     "output_type": "display_data"
    }
   ],
   "source": [
    "glue_task = \"CoLA\"\n",
    "\n",
    "logits_avg = {kind: {cls: np.zeros_like(classes[glue_task], dtype=np.float) for cls in classes[glue_task]} \n",
    "              for kind in [\"true\", \"pred\"]}\n",
    "\n",
    "for i, sample in data.iterrows():\n",
    "    logits = np.array([float(l) for l in sample[\"logits\"].split(\",\")])\n",
    "    logits_avg[\"true\"][sample[\"label\"]] += logits\n",
    "    logits_avg[\"pred\"][sample[\"pred\"]] += logits\n",
    "for cls in classes[glue_task]:\n",
    "    n_pred = (data[\"pred\"] == cls).sum()\n",
    "    n_true = (data[\"label\"] == cls).sum()\n",
    "    if n_pred != 0:\n",
    "        logits_avg[\"pred\"][cls] /= n_pred\n",
    "    logits_avg[\"true\"][cls] /= n_true\n",
    "plt.figure(figsize=(15, 7))\n",
    "for cls in classes[glue_task]:\n",
    "    plt.plot(logits_avg[\"true\"][cls], label=cls)\n",
    "plt.legend()\n",
    "plt.show()"
   ]
  },
  {
   "cell_type": "markdown",
   "metadata": {},
   "source": [
    "# Computing average entropy"
   ]
  },
  {
   "cell_type": "code",
   "execution_count": 8,
   "metadata": {},
   "outputs": [
    {
     "name": "stdout",
     "output_type": "stream",
     "text": [
      "0.2820318261129553 0.19211760758900245\n"
     ]
    }
   ],
   "source": [
    "entropies = []\n",
    "for i, sample in data.iterrows():\n",
    "    logits = np.array([float(l) for l in sample[\"logits\"].split(\",\")])\n",
    "    probs = softmax(logits)\n",
    "    H = entropy(probs)\n",
    "    entropies.append(H)\n",
    "H_mean = np.mean(entropies)\n",
    "H_std = np.std(entropies)\n",
    "print(H_mean, H_std)"
   ]
  }
 ],
 "metadata": {
  "kernelspec": {
   "display_name": "Python 3",
   "language": "python",
   "name": "python3"
  },
  "language_info": {
   "codemirror_mode": {
    "name": "ipython",
    "version": 3
   },
   "file_extension": ".py",
   "mimetype": "text/x-python",
   "name": "python",
   "nbconvert_exporter": "python",
   "pygments_lexer": "ipython3",
   "version": "3.7.4"
  }
 },
 "nbformat": 4,
 "nbformat_minor": 2
}
