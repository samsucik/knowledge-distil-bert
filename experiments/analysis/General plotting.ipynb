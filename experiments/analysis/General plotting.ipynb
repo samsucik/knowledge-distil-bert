{
 "cells": [
  {
   "cell_type": "code",
   "execution_count": 2,
   "metadata": {},
   "outputs": [],
   "source": [
    "import pandas as pd\n",
    "import numpy as np\n",
    "from matplotlib import pyplot as plt\n",
    "from matplotlib import colors\n",
    "import seaborn as sns\n",
    "import matplotlib\n",
    "matplotlib.rcParams.update({'font.size': 15})"
   ]
  },
  {
   "cell_type": "code",
   "execution_count": 48,
   "metadata": {},
   "outputs": [],
   "source": [
    "glue_tasks = [\"CoLA\", \"SST-2\", \"Sara\"]\n",
    "metrics = {\n",
    "    \"CoLA\": \"MCC\",\n",
    "    \"SST-2\": \"accuracy\",\n",
    "    \"Sara\": \"micro-avg F1\"\n",
    "}\n",
    "model_types = {\n",
    "    \"main\": [\"teacher\", \"BERT\", \"LSTM\"],\n",
    "    \"additional\": [\"scratch\", \"hard-logits\"]\n",
    "}\n",
    "model_type_bar_hatches = {\n",
    "    \"main\": \"\",\n",
    "    \"scratch\": \"//\",\n",
    "    \"hard-logits\": \"x\"\n",
    "#     ('-', '+', 'x', '\\\\', '*', 'o', 'O', '.')\n",
    "}\n",
    "model_colours = { # http://mkweb.bcgsc.ca/colorblind/\n",
    "    \"teacher\": (0, 0, 0), # black\n",
    "    \"LSTM\": (86, 180, 233), # sky blue\n",
    "    \"BERT\": (230, 159, 0), # orange\n",
    "    \"embedding\": (0, 114, 178) # blue\n",
    "}\n",
    "model_colours = {name: np.array(c)/255 for name, c in model_colours.items()}\n",
    "\n",
    "best_model_scores = {\n",
    "    \"CoLA\": {\n",
    "        \"teacher\": 59.9,\n",
    "        \"BERT\": 45.0,\n",
    "        \"BERT-scratch\": 35.2,\n",
    "        \"BERT-hard-logits\": 37.3,\n",
    "        \"LSTM\": 44.2, # 44.8\n",
    "        \"LSTM-scratch\": 37.5,\n",
    "        \"LSTM-hard-logits\": 38.4\n",
    "    },\n",
    "    \"SST-2\": {\n",
    "        \"teacher\": 91.5,\n",
    "        \"BERT\": 89.3, # 89.2\n",
    "        \"BERT-scratch\": 87.4,\n",
    "        \"BERT-hard-logits\": 86.7,\n",
    "        \"LSTM\": 91.2, # 91.9\n",
    "        \"LSTM-scratch\": 90.8,\n",
    "        \"LSTM-hard-logits\": 90.6\n",
    "    },\n",
    "    \"Sara\": {\n",
    "        \"teacher\": 87.5,\n",
    "        \"BERT\": 87.1,\n",
    "        \"BERT-scratch\": 86.0,\n",
    "        \"BERT-hard-logits\": 84.1,\n",
    "        \"LSTM\": 86.5,\n",
    "        \"LSTM-scratch\": 85.6,\n",
    "        \"LSTM-hard-logits\": 84.9\n",
    "    },\n",
    "}"
   ]
  },
  {
   "cell_type": "markdown",
   "metadata": {},
   "source": [
    "# Comparing performance of best models"
   ]
  },
  {
   "cell_type": "code",
   "execution_count": 49,
   "metadata": {},
   "outputs": [
    {
     "data": {
      "image/png": "[encoded data removed]",
      "text/plain": [
       "<Figure size 792x216 with 3 Axes>"
      ]
     },
     "metadata": {
      "needs_background": "light"
     },
     "output_type": "display_data"
    }
   ],
   "source": [
    "fig, axs = plt.subplots(nrows=1, ncols=3, figsize=(11, 3))\n",
    "for ax, task in zip(axs, glue_tasks):\n",
    "    results = [best_model_scores[task][\"teacher\"]]\n",
    "    colours = [model_colours[\"teacher\"]]\n",
    "    hatches = [model_type_bar_hatches[\"main\"]]\n",
    "    for main_model_type in [\"BERT\", \"LSTM\"]:\n",
    "        all_model_types = [main_model_type] + [(main_model_type + \"-\" + additional) for additional in model_types[\"additional\"]]\n",
    "        colours += [model_colours[main_model_type] for _ in range(len(model_types[\"additional\"])+1)]\n",
    "        hatches += [model_type_bar_hatches[model_type] for model_type in ([\"main\"] + model_types[\"additional\"])]\n",
    "        for model_type in all_model_types:\n",
    "            results.append(best_model_scores[task][model_type])\n",
    "    ax.bar(range(len(results)), results, color=colours)\n",
    "    for bar, hatch in zip(ax.patches, hatches): bar.set_hatch(hatch)\n",
    "    ax.set_ylabel(metrics[task])\n",
    "    ax.set_xlabel(task)\n",
    "    ax.tick_params(axis=\"x\", labelbottom=False, length=0)\n",
    "    ax.grid(axis=\"y\")\n",
    "    ax.set_axisbelow(True)\n",
    "plt.tight_layout()\n",
    "plt.show()"
   ]
  }
 ],
 "metadata": {
  "kernelspec": {
   "display_name": "Python 3",
   "language": "python",
   "name": "python3"
  },
  "language_info": {
   "codemirror_mode": {
    "name": "ipython",
    "version": 3
   },
   "file_extension": ".py",
   "mimetype": "text/x-python",
   "name": "python",
   "nbconvert_exporter": "python",
   "pygments_lexer": "ipython3",
   "version": "3.7.4"
  }
 },
 "nbformat": 4,
 "nbformat_minor": 2
}
